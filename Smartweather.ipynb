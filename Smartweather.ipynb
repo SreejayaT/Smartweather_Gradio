{
  "nbformat": 4,
  "nbformat_minor": 0,
  "metadata": {
    "colab": {
      "provenance": []
    },
    "kernelspec": {
      "name": "python3",
      "display_name": "Python 3"
    },
    "language_info": {
      "name": "python"
    }
  },
  "cells": [
    {
      "cell_type": "code",
      "metadata": {
        "colab": {
          "base_uri": "https://localhost:8080/"
        },
        "id": "6acc9ff9",
        "outputId": "582facb6-6f0e-4640-909c-7d841cd14c5e"
      },
      "source": [
        "# Install the astral library for celestial calculations\n",
        "%pip install astral"
      ],
      "execution_count": 2,
      "outputs": [
        {
          "output_type": "stream",
          "name": "stdout",
          "text": [
            "Requirement already satisfied: astral in /usr/local/lib/python3.12/dist-packages (3.2)\n"
          ]
        }
      ]
    },
    {
      "cell_type": "code",
      "source": [
        "# Install necessary libraries for the weather application\n",
        "!pip install -q gradio requests plotly timezonefinder python-dateutil astral"
      ],
      "metadata": {
        "id": "a_cNlKAvP8pF",
        "colab": {
          "base_uri": "https://localhost:8080/"
        },
        "outputId": "8e7c0c63-5f81-40d3-e98f-410112172a0b"
      },
      "execution_count": 3,
      "outputs": [
        {
          "output_type": "stream",
          "name": "stdout",
          "text": [
            "\u001b[?25l   \u001b[90m━━━━━━━━━━━━━━━━━━━━━━━━━━━━━━━━━━━━━━━━\u001b[0m \u001b[32m0.0/28.0 MB\u001b[0m \u001b[31m?\u001b[0m eta \u001b[36m-:--:--\u001b[0m\r\u001b[2K   \u001b[91m━━━━━━━\u001b[0m\u001b[91m╸\u001b[0m\u001b[90m━━━━━━━━━━━━━━━━━━━━━━━━━━━━━━━━\u001b[0m \u001b[32m5.5/28.0 MB\u001b[0m \u001b[31m165.0 MB/s\u001b[0m eta \u001b[36m0:00:01\u001b[0m\r\u001b[2K   \u001b[91m━━━━━━━━━━━━━━━━\u001b[0m\u001b[91m╸\u001b[0m\u001b[90m━━━━━━━━━━━━━━━━━━━━━━━\u001b[0m \u001b[32m11.8/28.0 MB\u001b[0m \u001b[31m180.3 MB/s\u001b[0m eta \u001b[36m0:00:01\u001b[0m\r\u001b[2K   \u001b[91m━━━━━━━━━━━━━━━━━━━━━━━━━━\u001b[0m\u001b[90m╺\u001b[0m\u001b[90m━━━━━━━━━━━━━\u001b[0m \u001b[32m18.2/28.0 MB\u001b[0m \u001b[31m181.1 MB/s\u001b[0m eta \u001b[36m0:00:01\u001b[0m\r\u001b[2K   \u001b[91m━━━━━━━━━━━━━━━━━━━━━━━━━━━━━━━━━━\u001b[0m\u001b[90m╺\u001b[0m\u001b[90m━━━━━\u001b[0m \u001b[32m24.1/28.0 MB\u001b[0m \u001b[31m174.7 MB/s\u001b[0m eta \u001b[36m0:00:01\u001b[0m\r\u001b[2K   \u001b[91m━━━━━━━━━━━━━━━━━━━━━━━━━━━━━━━━━━━━━━━\u001b[0m\u001b[91m╸\u001b[0m \u001b[32m28.0/28.0 MB\u001b[0m \u001b[31m179.8 MB/s\u001b[0m eta \u001b[36m0:00:01\u001b[0m\r\u001b[2K   \u001b[91m━━━━━━━━━━━━━━━━━━━━━━━━━━━━━━━━━━━━━━━\u001b[0m\u001b[91m╸\u001b[0m \u001b[32m28.0/28.0 MB\u001b[0m \u001b[31m179.8 MB/s\u001b[0m eta \u001b[36m0:00:01\u001b[0m\r\u001b[2K   \u001b[91m━━━━━━━━━━━━━━━━━━━━━━━━━━━━━━━━━━━━━━━\u001b[0m\u001b[91m╸\u001b[0m \u001b[32m28.0/28.0 MB\u001b[0m \u001b[31m179.8 MB/s\u001b[0m eta \u001b[36m0:00:01\u001b[0m\r\u001b[2K   \u001b[90m━━━━━━━━━━━━━━━━━━━━━━━━━━━━━━━━━━━━━━━━\u001b[0m \u001b[32m28.0/28.0 MB\u001b[0m \u001b[31m69.2 MB/s\u001b[0m eta \u001b[36m0:00:00\u001b[0m\n",
            "\u001b[?25h\u001b[?25l   \u001b[90m━━━━━━━━━━━━━━━━━━━━━━━━━━━━━━━━━━━━━━━━\u001b[0m \u001b[32m0.0/1.0 MB\u001b[0m \u001b[31m?\u001b[0m eta \u001b[36m-:--:--\u001b[0m\r\u001b[2K   \u001b[90m━━━━━━━━━━━━━━━━━━━━━━━━━━━━━━━━━━━━━━━━\u001b[0m \u001b[32m1.0/1.0 MB\u001b[0m \u001b[31m61.3 MB/s\u001b[0m eta \u001b[36m0:00:00\u001b[0m\n",
            "\u001b[?25h"
          ]
        }
      ]
    },
    {
      "cell_type": "code",
      "source": [
        "# Install the prophet library for time series forecasting\n",
        "!pip install prophet"
      ],
      "metadata": {
        "colab": {
          "base_uri": "https://localhost:8080/"
        },
        "id": "apXuOeWZxQRw",
        "outputId": "01000a72-a4c6-4b5e-9741-62caf6a67626"
      },
      "execution_count": 4,
      "outputs": [
        {
          "output_type": "stream",
          "name": "stdout",
          "text": [
            "Requirement already satisfied: prophet in /usr/local/lib/python3.12/dist-packages (1.1.7)\n",
            "Requirement already satisfied: cmdstanpy>=1.0.4 in /usr/local/lib/python3.12/dist-packages (from prophet) (1.2.5)\n",
            "Requirement already satisfied: numpy>=1.15.4 in /usr/local/lib/python3.12/dist-packages (from prophet) (2.0.2)\n",
            "Requirement already satisfied: matplotlib>=2.0.0 in /usr/local/lib/python3.12/dist-packages (from prophet) (3.10.0)\n",
            "Requirement already satisfied: pandas>=1.0.4 in /usr/local/lib/python3.12/dist-packages (from prophet) (2.2.2)\n",
            "Requirement already satisfied: holidays<1,>=0.25 in /usr/local/lib/python3.12/dist-packages (from prophet) (0.78)\n",
            "Requirement already satisfied: tqdm>=4.36.1 in /usr/local/lib/python3.12/dist-packages (from prophet) (4.67.1)\n",
            "Requirement already satisfied: importlib_resources in /usr/local/lib/python3.12/dist-packages (from prophet) (6.5.2)\n",
            "Requirement already satisfied: stanio<2.0.0,>=0.4.0 in /usr/local/lib/python3.12/dist-packages (from cmdstanpy>=1.0.4->prophet) (0.5.1)\n",
            "Requirement already satisfied: python-dateutil in /usr/local/lib/python3.12/dist-packages (from holidays<1,>=0.25->prophet) (2.9.0.post0)\n",
            "Requirement already satisfied: contourpy>=1.0.1 in /usr/local/lib/python3.12/dist-packages (from matplotlib>=2.0.0->prophet) (1.3.3)\n",
            "Requirement already satisfied: cycler>=0.10 in /usr/local/lib/python3.12/dist-packages (from matplotlib>=2.0.0->prophet) (0.12.1)\n",
            "Requirement already satisfied: fonttools>=4.22.0 in /usr/local/lib/python3.12/dist-packages (from matplotlib>=2.0.0->prophet) (4.59.1)\n",
            "Requirement already satisfied: kiwisolver>=1.3.1 in /usr/local/lib/python3.12/dist-packages (from matplotlib>=2.0.0->prophet) (1.4.9)\n",
            "Requirement already satisfied: packaging>=20.0 in /usr/local/lib/python3.12/dist-packages (from matplotlib>=2.0.0->prophet) (25.0)\n",
            "Requirement already satisfied: pillow>=8 in /usr/local/lib/python3.12/dist-packages (from matplotlib>=2.0.0->prophet) (11.3.0)\n",
            "Requirement already satisfied: pyparsing>=2.3.1 in /usr/local/lib/python3.12/dist-packages (from matplotlib>=2.0.0->prophet) (3.2.3)\n",
            "Requirement already satisfied: pytz>=2020.1 in /usr/local/lib/python3.12/dist-packages (from pandas>=1.0.4->prophet) (2025.2)\n",
            "Requirement already satisfied: tzdata>=2022.7 in /usr/local/lib/python3.12/dist-packages (from pandas>=1.0.4->prophet) (2025.2)\n",
            "Requirement already satisfied: six>=1.5 in /usr/local/lib/python3.12/dist-packages (from python-dateutil->holidays<1,>=0.25->prophet) (1.17.0)\n"
          ]
        }
      ]
    },
    {
      "cell_type": "code",
      "source": [
        "# Install libraries for image conversion (SVG to PNG and PNG to GIF)\n",
        "!pip install cairosvg pillow"
      ],
      "metadata": {
        "colab": {
          "base_uri": "https://localhost:8080/"
        },
        "id": "u6u0NZJGdX89",
        "outputId": "c092a204-45a6-41a2-f1c7-375bd59905ab"
      },
      "execution_count": 5,
      "outputs": [
        {
          "output_type": "stream",
          "name": "stdout",
          "text": [
            "Collecting cairosvg\n",
            "  Downloading cairosvg-2.8.2-py3-none-any.whl.metadata (2.7 kB)\n",
            "Requirement already satisfied: pillow in /usr/local/lib/python3.12/dist-packages (11.3.0)\n",
            "Collecting cairocffi (from cairosvg)\n",
            "  Downloading cairocffi-1.7.1-py3-none-any.whl.metadata (3.3 kB)\n",
            "Collecting cssselect2 (from cairosvg)\n",
            "  Downloading cssselect2-0.8.0-py3-none-any.whl.metadata (2.9 kB)\n",
            "Requirement already satisfied: defusedxml in /usr/local/lib/python3.12/dist-packages (from cairosvg) (0.7.1)\n",
            "Requirement already satisfied: tinycss2 in /usr/local/lib/python3.12/dist-packages (from cairosvg) (1.4.0)\n",
            "Requirement already satisfied: cffi>=1.1.0 in /usr/local/lib/python3.12/dist-packages (from cairocffi->cairosvg) (1.17.1)\n",
            "Requirement already satisfied: webencodings in /usr/local/lib/python3.12/dist-packages (from cssselect2->cairosvg) (0.5.1)\n",
            "Requirement already satisfied: pycparser in /usr/local/lib/python3.12/dist-packages (from cffi>=1.1.0->cairocffi->cairosvg) (2.22)\n",
            "Downloading cairosvg-2.8.2-py3-none-any.whl (45 kB)\n",
            "\u001b[2K   \u001b[90m━━━━━━━━━━━━━━━━━━━━━━━━━━━━━━━━━━━━━━━━\u001b[0m \u001b[32m45.8/45.8 kB\u001b[0m \u001b[31m3.7 MB/s\u001b[0m eta \u001b[36m0:00:00\u001b[0m\n",
            "\u001b[?25hDownloading cairocffi-1.7.1-py3-none-any.whl (75 kB)\n",
            "\u001b[2K   \u001b[90m━━━━━━━━━━━━━━━━━━━━━━━━━━━━━━━━━━━━━━━━\u001b[0m \u001b[32m75.6/75.6 kB\u001b[0m \u001b[31m5.5 MB/s\u001b[0m eta \u001b[36m0:00:00\u001b[0m\n",
            "\u001b[?25hDownloading cssselect2-0.8.0-py3-none-any.whl (15 kB)\n",
            "Installing collected packages: cssselect2, cairocffi, cairosvg\n",
            "Successfully installed cairocffi-1.7.1 cairosvg-2.8.2 cssselect2-0.8.0\n"
          ]
        }
      ]
    },
    {
      "cell_type": "code",
      "source": [
        "import os\n",
        "import cairosvg\n",
        "from PIL import Image\n",
        "\n",
        "# Define input and output directories for image conversion\n",
        "INPUT_DIR = \"/content\"\n",
        "OUTPUT_DIR = \"/content/converted\"\n",
        "\n",
        "# Create the output directory if it doesn't exist\n",
        "os.makedirs(OUTPUT_DIR, exist_ok=True)\n",
        "\n",
        "def svg_to_png(svg_path, png_path, scale=256):\n",
        "    \"\"\"Convert SVG → PNG with default size if not defined.\"\"\"\n",
        "    try:\n",
        "        # Use cairosvg to convert SVG to PNG\n",
        "        cairosvg.svg2png(\n",
        "            url=svg_path,\n",
        "            write_to=png_path,\n",
        "            output_width=scale,\n",
        "            output_height=scale\n",
        "        )\n",
        "        print(f\"✅ {svg_path} → {png_path}\")\n",
        "    except Exception as e:\n",
        "        print(f\"❌ Failed {svg_path}: {e}\")\n",
        "\n",
        "def png_to_gif(png_path, gif_path):\n",
        "    \"\"\"Convert PNG → GIF (single frame).\"\"\"\n",
        "    try:\n",
        "        # Use Pillow to convert PNG to GIF\n",
        "        img = Image.open(png_path).convert(\"RGBA\")\n",
        "        img.save(gif_path, save_all=True, loop=0)\n",
        "        print(f\"✅ {png_path} → {gif_path}\")\n",
        "    except Exception as e:\n",
        "        print(f\"❌ Failed {png_path}: {e}\")\n",
        "\n",
        "# Loop through all SVG files in the input directory\n",
        "for file in os.listdir(INPUT_DIR):\n",
        "    if file.endswith(\".svg\"):\n",
        "        name = os.path.splitext(file)[0]\n",
        "        svg_path = os.path.join(INPUT_DIR, file)\n",
        "        png_path = os.path.join(OUTPUT_DIR, f\"{name}.png\")\n",
        "        gif_path = os.path.join(OUTPUT_DIR, f\"{name}.gif\")\n",
        "\n",
        "        # Convert SVG → PNG (force 256x256)\n",
        "        svg_to_png(svg_path, png_path, scale=256)\n",
        "\n",
        "        # Convert PNG → GIF\n",
        "        if os.path.exists(png_path):\n",
        "            png_to_gif(png_path, gif_path)\n",
        "\n",
        "print(\"🎉 All SVG files converted! Check /content/converted/\")"
      ],
      "metadata": {
        "colab": {
          "base_uri": "https://localhost:8080/"
        },
        "id": "pi7FGZ-HfTcG",
        "outputId": "0ccec4b6-a645-4546-c2c9-f6783717414e"
      },
      "execution_count": 8,
      "outputs": [
        {
          "output_type": "stream",
          "name": "stdout",
          "text": [
            "✅ /content/snowy-4.svg → /content/converted/snowy-4.png\n",
            "✅ /content/converted/snowy-4.png → /content/converted/snowy-4.gif\n",
            "✅ /content/cloudy-night-1.svg → /content/converted/cloudy-night-1.png\n",
            "✅ /content/converted/cloudy-night-1.png → /content/converted/cloudy-night-1.gif\n",
            "✅ /content/rainy-1.svg → /content/converted/rainy-1.png\n",
            "✅ /content/converted/rainy-1.png → /content/converted/rainy-1.gif\n",
            "✅ /content/rainy-4.svg → /content/converted/rainy-4.png\n",
            "✅ /content/converted/rainy-4.png → /content/converted/rainy-4.gif\n",
            "✅ /content/cloudy.svg → /content/converted/cloudy.png\n",
            "✅ /content/converted/cloudy.png → /content/converted/cloudy.gif\n",
            "✅ /content/weather_sunset.svg → /content/converted/weather_sunset.png\n",
            "✅ /content/converted/weather_sunset.png → /content/converted/weather_sunset.gif\n",
            "✅ /content/snowy-1.svg → /content/converted/snowy-1.png\n",
            "✅ /content/converted/snowy-1.png → /content/converted/snowy-1.gif\n",
            "✅ /content/snowy-3.svg → /content/converted/snowy-3.png\n",
            "✅ /content/converted/snowy-3.png → /content/converted/snowy-3.gif\n",
            "✅ /content/weather.svg → /content/converted/weather.png\n",
            "✅ /content/converted/weather.png → /content/converted/weather.gif\n",
            "✅ /content/thunder.svg → /content/converted/thunder.png\n",
            "✅ /content/converted/thunder.png → /content/converted/thunder.gif\n",
            "✅ /content/cloudy-day-1.svg → /content/converted/cloudy-day-1.png\n",
            "✅ /content/converted/cloudy-day-1.png → /content/converted/cloudy-day-1.gif\n",
            "✅ /content/snowy-5.svg → /content/converted/snowy-5.png\n",
            "✅ /content/converted/snowy-5.png → /content/converted/snowy-5.gif\n",
            "✅ /content/day.svg → /content/converted/day.png\n",
            "✅ /content/converted/day.png → /content/converted/day.gif\n",
            "✅ /content/rainy-5.svg → /content/converted/rainy-5.png\n",
            "✅ /content/converted/rainy-5.png → /content/converted/rainy-5.gif\n",
            "✅ /content/weather-sprite.svg → /content/converted/weather-sprite.png\n",
            "✅ /content/converted/weather-sprite.png → /content/converted/weather-sprite.gif\n",
            "✅ /content/cloudy-day-3.svg → /content/converted/cloudy-day-3.png\n",
            "✅ /content/converted/cloudy-day-3.png → /content/converted/cloudy-day-3.gif\n",
            "✅ /content/rainy-6.svg → /content/converted/rainy-6.png\n",
            "✅ /content/converted/rainy-6.png → /content/converted/rainy-6.gif\n",
            "✅ /content/rainy-3.svg → /content/converted/rainy-3.png\n",
            "✅ /content/converted/rainy-3.png → /content/converted/rainy-3.gif\n",
            "✅ /content/night.svg → /content/converted/night.png\n",
            "✅ /content/converted/night.png → /content/converted/night.gif\n",
            "✅ /content/rainy-7.svg → /content/converted/rainy-7.png\n",
            "✅ /content/converted/rainy-7.png → /content/converted/rainy-7.gif\n",
            "✅ /content/cloudy-night-2.svg → /content/converted/cloudy-night-2.png\n",
            "✅ /content/converted/cloudy-night-2.png → /content/converted/cloudy-night-2.gif\n",
            "✅ /content/snowy-2.svg → /content/converted/snowy-2.png\n",
            "✅ /content/converted/snowy-2.png → /content/converted/snowy-2.gif\n",
            "✅ /content/snowy-6.svg → /content/converted/snowy-6.png\n",
            "✅ /content/converted/snowy-6.png → /content/converted/snowy-6.gif\n",
            "✅ /content/weather_sagittarius.svg → /content/converted/weather_sagittarius.png\n",
            "✅ /content/converted/weather_sagittarius.png → /content/converted/weather_sagittarius.gif\n",
            "✅ /content/rainy-2.svg → /content/converted/rainy-2.png\n",
            "✅ /content/converted/rainy-2.png → /content/converted/rainy-2.gif\n",
            "✅ /content/cloudy-day-2.svg → /content/converted/cloudy-day-2.png\n",
            "✅ /content/converted/cloudy-day-2.png → /content/converted/cloudy-day-2.gif\n",
            "✅ /content/cloudy-night-3.svg → /content/converted/cloudy-night-3.png\n",
            "✅ /content/converted/cloudy-night-3.png → /content/converted/cloudy-night-3.gif\n",
            "🎉 All SVG files converted! Check /content/converted/\n"
          ]
        }
      ]
    },
    {
      "cell_type": "code",
      "source": [
        "# weather_advisor_app.py\n",
        "\n",
        "# Install required packages if not already installed\n",
        "# !pip install gradio requests geopy matplotlib scikit-learn\n",
        "\n",
        "import requests\n",
        "import gradio as gr\n",
        "from geopy.geocoders import Nominatim\n",
        "import matplotlib.pyplot as plt\n",
        "from sklearn.linear_model import LinearRegression\n",
        "import numpy as np\n",
        "from datetime import datetime, timedelta\n",
        "\n",
        "# -------------------------------\n",
        "# Config\n",
        "# -------------------------------\n",
        "OPEN_METEO_URL = \"https://api.open-meteo.com/v1/forecast\"\n",
        "ICONS_DIR = \"/content/converted\"  # <-- where your .gif files are stored\n",
        "\n",
        "# Mapping of weather conditions to corresponding image file paths\n",
        "condition_images = {\n",
        "    \"sunny\": f\"{ICONS_DIR}/day.gif\",\n",
        "    \"cloudy\": f\"{ICONS_DIR}/cloudy.gif\",\n",
        "    \"rain\": f\"{ICONS_DIR}/rainy-5.gif\",\n",
        "    \"storm\": f\"{ICONS_DIR}/thunder.gif\",\n",
        "    \"default\": f\"{ICONS_DIR}/default.gif\"\n",
        "}\n",
        "\n",
        "# -------------------------------\n",
        "# Utility functions\n",
        "# -------------------------------\n",
        "def get_coordinates(place: str):\n",
        "    \"\"\"Get geographical coordinates (latitude, longitude) for a given place name.\"\"\"\n",
        "    geolocator = Nominatim(user_agent=\"weather_app\")\n",
        "    location = geolocator.geocode(place)\n",
        "    if location:\n",
        "        return location.latitude, location.longitude\n",
        "    else:\n",
        "        raise ValueError(\"❌ Place not found. Try another name.\")\n",
        "\n",
        "def fetch_weather(lat, lon):\n",
        "    \"\"\"Fetch weather and air quality data for given coordinates.\"\"\"\n",
        "    forecast_params = {\n",
        "        \"latitude\": lat,\n",
        "        \"longitude\": lon,\n",
        "        \"current_weather\": True,\n",
        "        \"hourly\": \"temperature_2m,precipitation,weathercode\",\n",
        "        \"timezone\": \"auto\"\n",
        "    }\n",
        "    # Fetch weather data from Open-Meteo\n",
        "    r1 = requests.get(OPEN_METEO_URL, params=forecast_params)\n",
        "    data1 = r1.json()\n",
        "\n",
        "    if \"current_weather\" not in data1:\n",
        "        raise ValueError(\"Weather data not available.\")\n",
        "\n",
        "    weather = data1[\"current_weather\"]\n",
        "    hourly = data1.get(\"hourly\", {})\n",
        "\n",
        "    temp = weather.get(\"temperature\", \"N/A\")\n",
        "    wind = weather.get(\"windspeed\", \"N/A\")\n",
        "    precip = hourly.get(\"precipitation\", [\"N/A\"])[0]\n",
        "    weather_code = weather.get(\"weathercode\", 0)\n",
        "\n",
        "    # Air Quality API\n",
        "    aq_url = \"https://air-quality-api.open-meteo.com/v1/air-quality\"\n",
        "    aq_params = {\n",
        "        \"latitude\": lat,\n",
        "        \"longitude\": lon,\n",
        "        \"hourly\": \"pm10,uv_index\"\n",
        "    }\n",
        "    # Fetch air quality data\n",
        "    r2 = requests.get(aq_url, params=aq_params)\n",
        "    data2 = r2.json()\n",
        "\n",
        "    pm10 = data2.get(\"hourly\", {}).get(\"pm10\", [\"N/A\"])[0]\n",
        "    uv = data2.get(\"hourly\", {}).get(\"uv_index\", [\"N/A\"])[0]\n",
        "\n",
        "    # Return also real hourly temps\n",
        "    hourly_times = hourly.get(\"time\", [])\n",
        "    hourly_temps = hourly.get(\"temperature_2m\", [])\n",
        "\n",
        "    return temp, wind, precip, pm10, uv, weather_code, hourly_times, hourly_temps\n",
        "\n",
        "def get_weather_icon(weather_code):\n",
        "    \"\"\"Map Open-Meteo weather codes to GIFs.\"\"\"\n",
        "    if weather_code in [0, 1]:  # clear sky\n",
        "        return condition_images[\"sunny\"]\n",
        "    elif weather_code in [2, 3]:  # cloudy\n",
        "        return condition_images[\"cloudy\"]\n",
        "    elif weather_code in range(51, 68) or weather_code in range(80, 83):  # rain\n",
        "        return condition_images[\"rain\"]\n",
        "    elif weather_code in range(95, 100):  # thunderstorm\n",
        "        return condition_images[\"storm\"]\n",
        "    else:\n",
        "        return condition_images[\"default\"]\n",
        "\n",
        "\n",
        "def generate_advice(temp, wind, precip, pm10, uv):\n",
        "    \"\"\"Generate smart advice messages based on weather and air quality data.\"\"\"\n",
        "    advice = []\n",
        "    try:\n",
        "        if temp != \"N/A\":\n",
        "            if temp > 30:\n",
        "                advice.append(\"🥵 It's hot! Stay hydrated.\")\n",
        "            elif temp < 10:\n",
        "                advice.append(\"🧥 It's cold. Wear warm clothes.\")\n",
        "\n",
        "        if wind != \"N/A\" and wind > 20:\n",
        "            advice.append(\"💨 Strong winds! Be careful outside.\")\n",
        "\n",
        "        if precip != \"N/A\" and precip > 0:\n",
        "            advice.append(\"☔ Rain expected. Carry an umbrella.\")\n",
        "\n",
        "        if pm10 != \"N/A\" and pm10 > 50:\n",
        "            advice.append(\"😷 Air quality is bad. Wear a mask.\")\n",
        "\n",
        "        if uv != \"N/A\" and uv > 6:\n",
        "            advice.append(\"🕶️ UV is high. Use sunscreen.\")\n",
        "\n",
        "    except Exception:\n",
        "        pass\n",
        "\n",
        "    if not advice:\n",
        "        advice = [\"✅ Weather looks fine today!\"]\n",
        "\n",
        "    return \" | \".join(advice)\n",
        "\n",
        "from prophet import Prophet\n",
        "import pandas as pd\n",
        "\n",
        "def prophet_forecast(times, temps):\n",
        "    \"\"\"Generate a temperature forecast using the Prophet model.\"\"\"\n",
        "    if len(times) < 2:\n",
        "        return None\n",
        "\n",
        "    # Build DataFrame for Prophet\n",
        "    df = pd.DataFrame({\n",
        "        \"ds\": [datetime.fromisoformat(t) for t in times],\n",
        "        \"y\": temps\n",
        "    })\n",
        "\n",
        "    # Initialize and fit the Prophet model\n",
        "    model = Prophet(daily_seasonality=True)\n",
        "    model.fit(df)\n",
        "\n",
        "    # Make future predictions\n",
        "    future = model.make_future_dataframe(periods=24, freq=\"H\")\n",
        "    forecast = model.predict(future)\n",
        "\n",
        "    # Plot the forecast\n",
        "    fig = model.plot(forecast)\n",
        "    plt.title(\"Temperature Forecast (Prophet)\")\n",
        "    return fig\n",
        "\n",
        "\n",
        "def smart_weather_place(place):\n",
        "    \"\"\"Main function to get weather data, generate advice, and provide forecast for a given place.\"\"\"\n",
        "    try:\n",
        "        # Get coordinates for the place\n",
        "        lat, lon = get_coordinates(place)\n",
        "\n",
        "        # Fetch weather and air quality data\n",
        "        (temp, wind, precip, pm10, uv, weather_code,\n",
        "         hourly_times, hourly_temps) = fetch_weather(lat, lon)\n",
        "\n",
        "        # Generate weather-based advice\n",
        "        advice = generate_advice(temp, wind, precip, pm10, uv)\n",
        "        # Get the appropriate weather icon\n",
        "        icon = get_weather_icon(weather_code)\n",
        "        # Get the current local time\n",
        "        local_time = datetime.now().strftime(\"%Y-%m-%d %H:%M\")\n",
        "\n",
        "        # Use Prophet forecast with real hourly temps\n",
        "        forecast_plot = prophet_forecast(hourly_times, hourly_temps) if hourly_temps else None\n",
        "\n",
        "        # Format weather information\n",
        "        weather_str = f\"🌡 {temp}°C, 🌬 {wind} km/h, ☔ {precip} mm, PM10={pm10}, UV={uv}\"\n",
        "        return local_time, weather_str, advice, forecast_plot, icon\n",
        "\n",
        "    except Exception as e:\n",
        "        # Handle errors and return default values\n",
        "        return None, f\"Error: {str(e)}\", \"\", None, condition_images[\"default\"]\n",
        "\n",
        "\n",
        "# -------------------------------\n",
        "# Gradio App\n",
        "# -------------------------------\n",
        "# Define the Gradio interface\n",
        "with gr.Blocks() as demo:\n",
        "    gr.Markdown(\"# 🌍 Smart Weather Advisor (Place-based)\")\n",
        "\n",
        "    # Input field for place name\n",
        "    place = gr.Textbox(label=\"Enter Place (e.g. New York, London, Tokyo)\", value=\"New York\")\n",
        "    # Button to trigger weather data retrieval\n",
        "    btn = gr.Button(\"Get Weather & Forecast\")\n",
        "\n",
        "    # Output fields to display results\n",
        "    with gr.Row():\n",
        "        time_out = gr.Textbox(label=\"Local Time\")\n",
        "        weather_out = gr.Textbox(label=\"Weather, Air Quality & Precipitation\")\n",
        "        advice_out = gr.Textbox(label=\"Advice\")\n",
        "\n",
        "    with gr.Row():\n",
        "        forecast_out = gr.Plot(label=\"ML Forecasts\")\n",
        "        image_out = gr.Image(label=\"Weather Illustration\", type=\"filepath\")\n",
        "\n",
        "    # Connect the button click to the main function and specify inputs/outputs\n",
        "    btn.click(smart_weather_place, [place],\n",
        "              [time_out, weather_out, advice_out, forecast_out, image_out])\n",
        "\n",
        "# Launch the Gradio app\n",
        "demo.launch()"
      ],
      "metadata": {
        "colab": {
          "base_uri": "https://localhost:8080/",
          "height": 646
        },
        "id": "LOQ4gm528hQx",
        "outputId": "38601e30-472e-4e64-e6c8-678e75fdd002"
      },
      "execution_count": 9,
      "outputs": [
        {
          "output_type": "stream",
          "name": "stdout",
          "text": [
            "It looks like you are running Gradio on a hosted Jupyter notebook, which requires `share=True`. Automatically setting `share=True` (you can turn this off by setting `share=False` in `launch()` explicitly).\n",
            "\n",
            "Colab notebook detected. To show errors in colab notebook, set debug=True in launch()\n",
            "* Running on public URL: https://db780a0d6052ad9c46.gradio.live\n",
            "\n",
            "This share link expires in 1 week. For free permanent hosting and GPU upgrades, run `gradio deploy` from the terminal in the working directory to deploy to Hugging Face Spaces (https://huggingface.co/spaces)\n"
          ]
        },
        {
          "output_type": "display_data",
          "data": {
            "text/plain": [
              "<IPython.core.display.HTML object>"
            ],
            "text/html": [
              "<div><iframe src=\"https://db780a0d6052ad9c46.gradio.live\" width=\"100%\" height=\"500\" allow=\"autoplay; camera; microphone; clipboard-read; clipboard-write;\" frameborder=\"0\" allowfullscreen></iframe></div>"
            ]
          },
          "metadata": {}
        },
        {
          "output_type": "execute_result",
          "data": {
            "text/plain": []
          },
          "metadata": {},
          "execution_count": 9
        }
      ]
    }
  ]
}